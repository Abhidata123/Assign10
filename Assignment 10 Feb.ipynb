{
 "cells": [
  {
   "cell_type": "code",
   "execution_count": 1,
   "id": "e4c8c174-3cf7-4c22-9dca-2f48861b171b",
   "metadata": {},
   "outputs": [],
   "source": [
    "# Q.1 : Q1. Which function is used to open a file? What are the different modes of opening a file? Explain each mode\n",
    "# of file opening."
   ]
  },
  {
   "cell_type": "code",
   "execution_count": 2,
   "id": "0cf16428-ee12-48c2-8928-5061393e6701",
   "metadata": {},
   "outputs": [],
   "source": [
    "# Ans: When we want to read from or write to a file, we need to open it first. When we are done, it needs to be closed so that the resources that are tied with the file are freed.\n",
    "\n",
    "#Hence, in Python, a file operation takes place in the following order:\n",
    "\n",
    "#Open a file\n",
    "#Read or write (perform operation)\n",
    "#Close the file\n"
   ]
  },
  {
   "cell_type": "code",
   "execution_count": 3,
   "id": "18dd5559-13bf-4750-aac5-90d945917f31",
   "metadata": {},
   "outputs": [],
   "source": [
    "file1 = open(\"test.txt\")"
   ]
  },
  {
   "cell_type": "code",
   "execution_count": 4,
   "id": "1afda1b2-0b2a-4703-b129-9c4ec6df63f3",
   "metadata": {},
   "outputs": [],
   "source": [
    "# r\tOpen a file for reading. (default)\n",
    "#w\tOpen a file for writing. Creates a new file if it does not exist or truncates the file if it exists.\n",
    "#x\tOpen a file for exclusive creation. If the file already exists, the operation fails.\n",
    "#a\tOpen a file for appending at the end of the file without truncating it. Creates a new file if it does not exist.\n",
    "#t\tOpen in text mode. (default)\n",
    "#b\tOpen in binary mode.\n",
    "#+\tOpen a file for updating (reading and writing)"
   ]
  },
  {
   "cell_type": "code",
   "execution_count": 11,
   "id": "d50fa2b3-dfde-441a-9f71-040005e89f74",
   "metadata": {},
   "outputs": [],
   "source": [
    "file1 = open(\"test9.txt\", \"a\")"
   ]
  },
  {
   "cell_type": "code",
   "execution_count": 12,
   "id": "9126f30d-f3b4-4718-8211-659769b2a506",
   "metadata": {},
   "outputs": [
    {
     "data": {
      "text/plain": [
       "26"
      ]
     },
     "execution_count": 12,
     "metadata": {},
     "output_type": "execute_result"
    }
   ],
   "source": [
    "file1.write(\"This is my assignment file\")"
   ]
  },
  {
   "cell_type": "code",
   "execution_count": 13,
   "id": "caed2254-5d5c-4dd6-8bed-add0ec8ded0d",
   "metadata": {},
   "outputs": [],
   "source": [
    "file1 = open(\"test9.txt\",\"r\")"
   ]
  },
  {
   "cell_type": "code",
   "execution_count": 24,
   "id": "062e2f36-3026-4f68-80f8-8a020fc59b09",
   "metadata": {},
   "outputs": [],
   "source": [
    "file1 = open(\"test9.txt\", \"a\")"
   ]
  },
  {
   "cell_type": "code",
   "execution_count": 25,
   "id": "a0d79e2b-4792-4799-ae25-258d7befbc76",
   "metadata": {},
   "outputs": [
    {
     "data": {
      "text/plain": [
       "30"
      ]
     },
     "execution_count": 25,
     "metadata": {},
     "output_type": "execute_result"
    }
   ],
   "source": [
    "file1.write(\"This is my new assignment file\")"
   ]
  },
  {
   "cell_type": "code",
   "execution_count": 26,
   "id": "930b303b-a5f9-46fa-952e-746b39a7ab1b",
   "metadata": {},
   "outputs": [],
   "source": [
    "file1 = open(\"test9.txt\", \"r\")"
   ]
  },
  {
   "cell_type": "code",
   "execution_count": 27,
   "id": "1d213a8f-dc1b-4cfd-bbfe-3bb923df0de6",
   "metadata": {},
   "outputs": [
    {
     "data": {
      "text/plain": [
       "'This is my new assignment file'"
      ]
     },
     "execution_count": 27,
     "metadata": {},
     "output_type": "execute_result"
    }
   ],
   "source": [
    "file1.read()\n"
   ]
  },
  {
   "cell_type": "code",
   "execution_count": 28,
   "id": "eaffd531-60f3-4f5a-85bf-9d2f59da97ec",
   "metadata": {},
   "outputs": [],
   "source": [
    "# Q. 2: Why close() function is used? Why is it important to close a file?"
   ]
  },
  {
   "cell_type": "code",
   "execution_count": 29,
   "id": "c3aa26cc-d02a-47ae-8221-49c2b0ff22b8",
   "metadata": {},
   "outputs": [
    {
     "name": "stdout",
     "output_type": "stream",
     "text": [
      "This is my new assignment file\n"
     ]
    }
   ],
   "source": [
    "# Ans: Because files are limited resources managed by the operating system, making sure files are closed after use will protect against hard-to-debug issues like running out of file handles or experiencing corrupted data.\n",
    "# open a file\n",
    "file1 = open(\"test9.txt\", \"r\")\n",
    "\n",
    "# read the file\n",
    "read_content = file1.read()\n",
    "print(read_content)\n",
    "\n",
    "# close the file\n",
    "file1.close()"
   ]
  },
  {
   "cell_type": "code",
   "execution_count": 30,
   "id": "cd55f1d4-41f0-43ee-bde2-4b135ba8d284",
   "metadata": {},
   "outputs": [],
   "source": [
    "# Q3. Write a python program to create a text file. Write ‘I want to become a Data Scientist’ in that file. Then\n",
    "# close the file. Open this file and read the content of the file."
   ]
  },
  {
   "cell_type": "code",
   "execution_count": 44,
   "id": "2c939422-38d5-4f7d-a374-915ded952228",
   "metadata": {},
   "outputs": [
    {
     "data": {
      "text/plain": [
       "33"
      ]
     },
     "execution_count": 44,
     "metadata": {},
     "output_type": "execute_result"
    }
   ],
   "source": [
    "file2 = open(\"test11.txt\",\"a\")\n",
    "file2.write(\"I want to become a Data Scientist\")\n"
   ]
  },
  {
   "cell_type": "code",
   "execution_count": 45,
   "id": "17e546c7-55fb-4e4f-9865-4f3e060f9a25",
   "metadata": {},
   "outputs": [],
   "source": [
    "file2 = open(\"test11.txt\",\"r\")\n"
   ]
  },
  {
   "cell_type": "code",
   "execution_count": 47,
   "id": "74cacc06-76d8-4417-83af-547406f398d0",
   "metadata": {},
   "outputs": [],
   "source": [
    "file2.read()\n",
    "file2.close()"
   ]
  },
  {
   "cell_type": "code",
   "execution_count": 49,
   "id": "3d164af6-ddef-4def-8bf8-d25873bed038",
   "metadata": {},
   "outputs": [],
   "source": [
    "# Q.3: Q4. Explain the following with python code: read(), readline() and readlines()."
   ]
  },
  {
   "cell_type": "code",
   "execution_count": 50,
   "id": "9986832c-9604-4f91-95f7-6b265ad5c95b",
   "metadata": {},
   "outputs": [],
   "source": [
    "#Python readline() syntax"
   ]
  },
  {
   "cell_type": "code",
   "execution_count": 57,
   "id": "5bb62070-1c19-43ce-9e34-3e11b4f219f6",
   "metadata": {},
   "outputs": [
    {
     "data": {
      "text/plain": [
       "'I '"
      ]
     },
     "execution_count": 57,
     "metadata": {},
     "output_type": "execute_result"
    }
   ],
   "source": [
    "file = open(\"test11.txt\", \"r\")\n",
    "file.readline(2)  # The readline method takes one parameter i.e size, the default value for the size parameter is -1. It means that the method will return the whole line. It is an optional parameter, we can specify the number of bytes from a line to return."
   ]
  },
  {
   "cell_type": "code",
   "execution_count": 58,
   "id": "59f95b7c-e16f-42c2-8f35-6471eb870053",
   "metadata": {},
   "outputs": [
    {
     "data": {
      "text/plain": [
       "['I want to become a Data Scientist']"
      ]
     },
     "execution_count": 58,
     "metadata": {},
     "output_type": "execute_result"
    }
   ],
   "source": [
    "# readlines() Syntax\n",
    "file = open(\"test11.txt\",\"r\")\n",
    "file.readlines() # means that the method will return all the lines. If we specify the hint parameter, the lines exceeding the number of bytes from the hint parameter will not be returned by the readlines method."
   ]
  },
  {
   "cell_type": "code",
   "execution_count": 59,
   "id": "b08e87c4-bfa0-4fd5-b11a-01c8c2f97db9",
   "metadata": {},
   "outputs": [
    {
     "data": {
      "text/plain": [
       "'I want to become a Data Scientist'"
      ]
     },
     "execution_count": 59,
     "metadata": {},
     "output_type": "execute_result"
    }
   ],
   "source": [
    "file = open(\"test11.txt\", \"r\")\n",
    "file.read()"
   ]
  },
  {
   "cell_type": "code",
   "execution_count": 60,
   "id": "34015a82-7b28-47c4-9135-a668b3ecd437",
   "metadata": {},
   "outputs": [],
   "source": [
    "# Q5. Explain why with statement is used with open(). What is the advantage of using with statement and\n",
    "# open() together?"
   ]
  },
  {
   "cell_type": "code",
   "execution_count": 61,
   "id": "2a95830a-c41b-4e80-9732-24c0e44f801c",
   "metadata": {},
   "outputs": [
    {
     "name": "stdout",
     "output_type": "stream",
     "text": [
      "I want to become a Data Scientist\n"
     ]
    }
   ],
   "source": [
    "# The with statement works with the open() function to open a file. Unlike open() where you have to close the file with the close() method, the with statement closes the file for you without you telling it to. \n",
    "\n",
    "with open(\"test11.txt\") as my_file:\n",
    "    print(my_file.read())"
   ]
  },
  {
   "cell_type": "code",
   "execution_count": 62,
   "id": "d3ae8c70-2945-42e2-b3fe-68ac56d75786",
   "metadata": {},
   "outputs": [],
   "source": [
    "# Q6. Explain the write() and writelines() functions. Give a suitable example."
   ]
  },
  {
   "cell_type": "code",
   "execution_count": 63,
   "id": "948e2a67-b33c-4310-9cce-8aceaccb2f19",
   "metadata": {},
   "outputs": [
    {
     "name": "stdin",
     "output_type": "stream",
     "text": [
      "Enter the name of the employee:  Abhi\n",
      "Enter the name of the employee:  Shyam\n",
      "Enter the name of the employee:  Rohan\n"
     ]
    },
    {
     "name": "stdout",
     "output_type": "stream",
     "text": [
      "Data is written into the file.\n"
     ]
    }
   ],
   "source": [
    "#write() function\n",
    "#The write() function will write the content in the file without adding any extra characters.\n",
    "\n",
    "file = open(\"Employees.txt\", \"w\")\n",
    "  \n",
    "for i in range(3):\n",
    "    name = input(\"Enter the name of the employee: \")\n",
    "    file.write(name)\n",
    "    file.write(\"\\n\")\n",
    "     \n",
    "file.close()\n",
    "  \n",
    "print(\"Data is written into the file.\")"
   ]
  },
  {
   "cell_type": "code",
   "execution_count": 67,
   "id": "33fe4d1b-5f43-437d-bad0-51f927217162",
   "metadata": {},
   "outputs": [
    {
     "name": "stdin",
     "output_type": "stream",
     "text": [
      "Enter the name of the employee:  kjkjkj\n",
      "Enter the name of the employee:  jjkljkl\n",
      "Enter the name of the employee:  hjhkjhkj\n"
     ]
    },
    {
     "name": "stdout",
     "output_type": "stream",
     "text": [
      "Data is written into the file.\n"
     ]
    }
   ],
   "source": [
    "# writelines() function\n",
    "#This function writes the content of a list to a file.\n",
    "\n",
    "\n",
    "file1 = open(\"Employees1.txt\", \"w\")\n",
    "lst = []\n",
    "for i in range(3):\n",
    "    name = input(\"Enter the name of the employee: \")\n",
    "    lst.append(name)\n",
    "      \n",
    "file1.writelines(lst)\n",
    "file1.close()\n",
    "print(\"Data is written into the file.\") "
   ]
  },
  {
   "cell_type": "code",
   "execution_count": null,
   "id": "dd671276-a98e-4905-a7ac-62d22898f9f9",
   "metadata": {},
   "outputs": [],
   "source": []
  }
 ],
 "metadata": {
  "kernelspec": {
   "display_name": "Python 3 (ipykernel)",
   "language": "python",
   "name": "python3"
  },
  "language_info": {
   "codemirror_mode": {
    "name": "ipython",
    "version": 3
   },
   "file_extension": ".py",
   "mimetype": "text/x-python",
   "name": "python",
   "nbconvert_exporter": "python",
   "pygments_lexer": "ipython3",
   "version": "3.10.8"
  }
 },
 "nbformat": 4,
 "nbformat_minor": 5
}
